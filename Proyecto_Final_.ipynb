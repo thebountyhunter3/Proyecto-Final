{
  "nbformat": 4,
  "nbformat_minor": 0,
  "metadata": {
    "colab": {
      "name": "Proyecto Final .ipynb",
      "provenance": []
    },
    "kernelspec": {
      "name": "python3",
      "display_name": "Python 3"
    },
    "language_info": {
      "name": "python"
    }
  },
  "cells": [
    {
      "cell_type": "code",
      "execution_count": 1,
      "metadata": {
        "id": "JmWmC4TqazqL"
      },
      "outputs": [],
      "source": [
        "import pandas as pd\n",
        "import numpy as pn\n"
      ]
    },
    {
      "cell_type": "code",
      "source": [
        "print(\"Hola, Proyecto Final del Curso\")"
      ],
      "metadata": {
        "colab": {
          "base_uri": "https://localhost:8080/"
        },
        "id": "vC5mmtv8a8pv",
        "outputId": "523084ae-3401-492e-81a6-88fed35eaad6"
      },
      "execution_count": 2,
      "outputs": [
        {
          "output_type": "stream",
          "name": "stdout",
          "text": [
            "Hola, Proyecto Final del Curso\n"
          ]
        }
      ]
    }
  ]
}